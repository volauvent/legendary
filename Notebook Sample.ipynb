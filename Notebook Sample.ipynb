{
 "cells": [
  {
   "cell_type": "markdown",
   "metadata": {},
   "source": [
    "# Async Server"
   ]
  },
  {
   "cell_type": "code",
   "execution_count": 6,
   "metadata": {
    "collapsed": false
   },
   "outputs": [],
   "source": [
    "import subprocess\n",
    "import os\n",
    "import signal\n",
    "p=subprocess.Popen([\"./start_server.sh\"], preexec_fn=os.setsid)"
   ]
  },
  {
   "cell_type": "code",
   "execution_count": null,
   "metadata": {
    "collapsed": true
   },
   "outputs": [],
   "source": [
    "os.killpg(os.getpgid(p.pid), signal.SIGTERM)"
   ]
  },
  {
   "cell_type": "markdown",
   "metadata": {},
   "source": [
    "# Server Client"
   ]
  },
  {
   "cell_type": "code",
   "execution_count": 7,
   "metadata": {
    "collapsed": false
   },
   "outputs": [
    {
     "name": "stderr",
     "output_type": "stream",
     "text": [
      "INFO:root:client: starting at 22222\n"
     ]
    }
   ],
   "source": [
    "#create client\n",
    "from server.baseClient import dbClient\n",
    "client = dbClient()"
   ]
  },
  {
   "cell_type": "code",
   "execution_count": 18,
   "metadata": {
    "collapsed": false
   },
   "outputs": [
    {
     "name": "stderr",
     "output_type": "stream",
     "text": [
      "INFO:root:client: sending predict_and_insert request\n"
     ]
    },
    {
     "name": "stdout",
     "output_type": "stream",
     "text": [
      "True\n"
     ]
    }
   ],
   "source": [
    "#insert image, do prediction and insert label\n",
    "print(client.predict_and_insert('test.jpeg'))"
   ]
  },
  {
   "cell_type": "code",
   "execution_count": 10,
   "metadata": {
    "collapsed": false
   },
   "outputs": [
    {
     "name": "stderr",
     "output_type": "stream",
     "text": [
      "INFO:root:client: sending query\n"
     ]
    },
    {
     "name": "stdout",
     "output_type": "stream",
     "text": [
      "[('a9535674ec565c0e', 'server/data/images/other/a9535674ec565c0e.jpeg', 0, 5, 'other', 'NULL')]\n"
     ]
    }
   ],
   "source": [
    "#query\n",
    "print(client.query(\"SELECT * FROM images\"))"
   ]
  },
  {
   "cell_type": "code",
   "execution_count": 19,
   "metadata": {
    "collapsed": false
   },
   "outputs": [
    {
     "name": "stderr",
     "output_type": "stream",
     "text": [
      "INFO:root:client: sending query\n"
     ]
    },
    {
     "name": "stdout",
     "output_type": "stream",
     "text": [
      "[(1, 'testing', 'a9535674ec565c0e', 8, 0.0), (2, 'testing', 'a9535674ec565c0e', 3, 0.0)]\n"
     ]
    }
   ],
   "source": [
    "print(client.query(\"SELECT * FROM modelLabels\"))"
   ]
  },
  {
   "cell_type": "code",
   "execution_count": 26,
   "metadata": {
    "collapsed": false
   },
   "outputs": [
    {
     "name": "stderr",
     "output_type": "stream",
     "text": [
      "INFO:root:client: requesting weak label\n"
     ]
    },
    {
     "name": "stdout",
     "output_type": "stream",
     "text": [
      "{'labels': [1, 6], 'path': '/Users/wangmeili/Documents/sedma/server/data/images/other/bb4ce465d2962c8e.jpg', 'id': 'bb4ce465d2962c8e'}\n"
     ]
    }
   ],
   "source": [
    "#get random. only work when there are weak labels\n",
    "print(client.getRandomImageWithWeakLabel())"
   ]
  },
  {
   "cell_type": "code",
   "execution_count": 16,
   "metadata": {
    "collapsed": false
   },
   "outputs": [
    {
     "name": "stdout",
     "output_type": "stream",
     "text": [
      "a9535674ec565c0e duplicated entry, insert reverted\n"
     ]
    }
   ],
   "source": [
    "#insert image but no prediction\n",
    "print(client.insertImage('test.jpeg'))"
   ]
  },
  {
   "cell_type": "markdown",
   "metadata": {},
   "source": [
    "# Data Base Client"
   ]
  },
  {
   "cell_type": "code",
   "execution_count": 2,
   "metadata": {
    "collapsed": false
   },
   "outputs": [],
   "source": [
    "#create db instance\n",
    "from server.database import databaseAPI\n",
    "db=databaseAPI('server/test.db','server/data')"
   ]
  },
  {
   "cell_type": "code",
   "execution_count": 3,
   "metadata": {
    "collapsed": false
   },
   "outputs": [
    {
     "name": "stdout",
     "output_type": "stream",
     "text": [
      "[(93,)]\n"
     ]
    }
   ],
   "source": [
    "print(db.query_meta(\"SELECT COUNT(*) FROM modelLabels\"))"
   ]
  },
  {
   "cell_type": "code",
   "execution_count": 4,
   "metadata": {
    "collapsed": false
   },
   "outputs": [
    {
     "name": "stdout",
     "output_type": "stream",
     "text": [
      "{'labels': [1, 6], 'id': 'bb4ce465d2962c8e', 'path': '/Users/wangmeili/Documents/sedma/server/data/images/other/bb4ce465d2962c8e.jpg'}\n"
     ]
    }
   ],
   "source": [
    "print(db.getRandomImageWithWeakLabel())"
   ]
  },
  {
   "cell_type": "code",
   "execution_count": 5,
   "metadata": {
    "collapsed": false
   },
   "outputs": [
    {
     "name": "stdout",
     "output_type": "stream",
     "text": [
      "[('a9535674ec565c0e',), ('a15ee83ccb9231a7',), ('57ccab23b1a6cc4a',), ('61031bb2f5d90ec7',), ('5f81e81ac6e73139',), ('d319632c78c38e9b',), ('87968ec64c636a73',), ('b5a3164c2d1f93e1',), ('23646c9bd4e99c9a',), ('ef619b1616ba61c1',), ('f3610c9b63cc6699',), ('8f0738cf44f946e4',), ('87b6b3c339266319',), ('91b76e482678b867',), ('1fc9e53319c66d06',), ('67399c6d07499c36',), ('a308d6f2a763989d',), ('6b90386f90abc6f8',), ('bd3bc34db941e051',), ('af765cf05ca184a9',), ('2939dac7a46825ed',), ('774cd3f9102941af',), ('5749ada1a139b996',), ('358306fccdc1cbc6',), ('75f206439b182fe3',), ('ad6f411badd2881e',), ('5f93a9893939b238',), ('d78d60396f511b92',), ('bb4ce465d2962c8e',), ('99b20c3ef46c96cc',), ('99666ed8625ea42d',), ('3b61609ece08997f',), ('83d353786d8e868b',), ('d783c63423e7722c',), ('17e7e405143c7b5a',), ('e3e3850505727e6e',), ('1fcbd1511bab2625',), ('5b31b20eec093eec',), ('017d470df094f8f3',), ('8f654c9d771f8043',), ('d720fc0f07f1391c',), ('1db1a7854846dbe9',), ('770a90aa1d751bc7',), ('5b6e27131925a6e3',), ('fd47a79105c9c14e',), ('9b3664d99807dbc8',), ('ff091bf401872db8',), ('b7a28d5c6306d8ec',)]\n"
     ]
    }
   ],
   "source": [
    "print(db.query_meta(\"SELECT id FROM images WHERE label=0\"))"
   ]
  },
  {
   "cell_type": "code",
   "execution_count": 6,
   "metadata": {
    "collapsed": false
   },
   "outputs": [],
   "source": [
    "db.insertMultipleImagesParallel('tempimages')"
   ]
  },
  {
   "cell_type": "code",
   "execution_count": 14,
   "metadata": {
    "collapsed": false
   },
   "outputs": [
    {
     "data": {
      "text/plain": [
       "True"
      ]
     },
     "execution_count": 14,
     "metadata": {},
     "output_type": "execute_result"
    }
   ],
   "source": [
    "db.removeModelLabel(image_id='a9535674ec565c0e duplicated entry, insert reverted')"
   ]
  },
  {
   "cell_type": "code",
   "execution_count": 6,
   "metadata": {
    "collapsed": false
   },
   "outputs": [
    {
     "name": "stdout",
     "output_type": "stream",
     "text": [
      "[('data/images/other/00767f1797130301.jpeg', '00767f1797130301'), ('data/images/other/787e7c7878707070.jpeg', '787e7c7878707070'), ('data/images/other/3f3e3e3e3e3e3e20.jpeg', '3f3e3e3e3e3e3e20'), ('data/images/other/027e7e7e7e7e7000.jpeg', '027e7e7e7e7e7000'), ('data/images/other/007f7f7e60400000.jpeg', '007f7f7e60400000'), ('data/images/other/01ffffff1f1f0f00.jpeg', '01ffffff1f1f0f00')]\n"
     ]
    }
   ],
   "source": [
    "print(db.query_meta(\"SELECT path, id from images\"))"
   ]
  },
  {
   "cell_type": "code",
   "execution_count": 4,
   "metadata": {
    "collapsed": false
   },
   "outputs": [
    {
     "name": "stdout",
     "output_type": "stream",
     "text": [
      "2017-03-16 21:33:24,946 - root - INFO - checking images\n",
      "2017-03-16 21:33:24,949 - root - WARNING - 3f3e3e3e3e3e3e20 not in file system\n",
      "2017-03-16 21:33:24,953 - root - WARNING - 00767f1797130301 not in file system\n",
      "2017-03-16 21:33:24,956 - root - WARNING - 027e7e7e7e7e7000 not in file system\n",
      "2017-03-16 21:33:24,958 - root - WARNING - 01ffffff1f1f0f00 not in file system\n",
      "2017-03-16 21:33:24,960 - root - WARNING - 007f7f7e60400000 not in file system\n",
      "2017-03-16 21:33:24,963 - root - WARNING - 787e7c7878707070 not in file system\n",
      "2017-03-16 21:33:24,966 - root - INFO - checking models\n",
      "2017-03-16 21:33:24,968 - root - INFO - Done\n"
     ]
    }
   ],
   "source": [
    "db.synchronize()"
   ]
  },
  {
   "cell_type": "code",
   "execution_count": 12,
   "metadata": {
    "collapsed": false
   },
   "outputs": [
    {
     "name": "stdout",
     "output_type": "stream",
     "text": [
      "True\n"
     ]
    }
   ],
   "source": [
    "print(db.query_meta('SELECT * FROM images where id = \"8080707efec1c3f7\"')==[('8080707efec1c3f7', 'data/images/other/8080707efec1c3f7.jpg', 'NULL', 5, 'other', 'NULL')])"
   ]
  },
  {
   "cell_type": "code",
   "execution_count": 21,
   "metadata": {
    "collapsed": false
   },
   "outputs": [],
   "source": [
    "db.removeImage('007f7f7e60400000')"
   ]
  },
  {
   "cell_type": "code",
   "execution_count": 14,
   "metadata": {
    "collapsed": false
   },
   "outputs": [
    {
     "name": "stdout",
     "output_type": "stream",
     "text": [
      "images:\n",
      "  0: id(TEXT PRIMATY KEY)\n",
      "  1: path(TEXT)\n",
      "  2: label(TEXT)\n",
      "  3: confidence(INTEGER)\n",
      "  4: source(TEXT)\n",
      "  5: comment(TEXT)\n",
      "modelLabels:\n",
      "  0: id(INTEGER PRIMATY KEY)\n",
      "  1: model(TEXT)\n",
      "  2: image_id(TEXT)\n",
      "  3: label(TEXT)\n",
      "  4: confidence(REAL)\n",
      "models:\n",
      "  0: name(TEXT)\n",
      "  1: path(TEXT)\n",
      "  2: accuracy(REAL)\n"
     ]
    }
   ],
   "source": [
    "db.printSchemas()"
   ]
  },
  {
   "cell_type": "markdown",
   "metadata": {},
   "source": [
    "# Image"
   ]
  },
  {
   "cell_type": "code",
   "execution_count": 29,
   "metadata": {
    "collapsed": false
   },
   "outputs": [
    {
     "name": "stdout",
     "output_type": "stream",
     "text": [
      "c000000000000000\n"
     ]
    }
   ],
   "source": [
    "#create new image\n",
    "from PIL import Image\n",
    "im=Image.new(\"RGB\", (512, 512))\n",
    "data=[(i//3,0,i//3) for i in range(512)]\n",
    "im.putdata(data)\n",
    "\n",
    "print(database.utility.hashImage(im))\n",
    "#im.show()"
   ]
  },
  {
   "cell_type": "code",
   "execution_count": 8,
   "metadata": {
    "collapsed": false
   },
   "outputs": [
    {
     "name": "stdout",
     "output_type": "stream",
     "text": [
      "a9535674ec565c0e\n"
     ]
    }
   ],
   "source": [
    "# hash image\n",
    "from PIL import Image\n",
    "import imagehash\n",
    "hashed = imagehash.phash(Image.open('test.jpeg'))\n",
    "print(hashed)"
   ]
  },
  {
   "cell_type": "code",
   "execution_count": null,
   "metadata": {
    "collapsed": true
   },
   "outputs": [],
   "source": []
  }
 ],
 "metadata": {
  "anaconda-cloud": {},
  "kernelspec": {
   "display_name": "Python [conda root]",
   "language": "python",
   "name": "conda-root-py"
  },
  "language_info": {
   "codemirror_mode": {
    "name": "ipython",
    "version": 3
   },
   "file_extension": ".py",
   "mimetype": "text/x-python",
   "name": "python",
   "nbconvert_exporter": "python",
   "pygments_lexer": "ipython3",
   "version": "3.5.2"
  }
 },
 "nbformat": 4,
 "nbformat_minor": 1
}
