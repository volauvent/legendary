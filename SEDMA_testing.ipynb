{
 "cells": [
  {
   "cell_type": "markdown",
   "metadata": {},
   "source": [
    "# AC297r Capstone Project\n",
    "## Legendary team\n",
    "### SEDMA testing\n",
    "- This code mainly focus on multithreading test"
   ]
  },
  {
   "cell_type": "markdown",
   "metadata": {},
   "source": [
    "# Async Server\n",
    "### Start server from terminal, no need to execute this session"
   ]
  },
  {
   "cell_type": "code",
   "execution_count": 13,
   "metadata": {
    "collapsed": false
   },
   "outputs": [],
   "source": [
    "import subprocess\n",
    "import os\n",
    "import signal\n",
    "p=subprocess.Popen([\"./start_server.sh\"], preexec_fn=os.setsid)"
   ]
  },
  {
   "cell_type": "code",
   "execution_count": 2,
   "metadata": {
    "collapsed": false
   },
   "outputs": [
    {
     "ename": "ProcessLookupError",
     "evalue": "[Errno 3] No such process",
     "output_type": "error",
     "traceback": [
      "\u001b[0;31m---------------------------------------------------------------------------\u001b[0m",
      "\u001b[0;31mProcessLookupError\u001b[0m                        Traceback (most recent call last)",
      "\u001b[0;32m<ipython-input-2-43fa56ebad4a>\u001b[0m in \u001b[0;36m<module>\u001b[0;34m()\u001b[0m\n\u001b[0;32m----> 1\u001b[0;31m \u001b[0mos\u001b[0m\u001b[0;34m.\u001b[0m\u001b[0mkillpg\u001b[0m\u001b[0;34m(\u001b[0m\u001b[0mos\u001b[0m\u001b[0;34m.\u001b[0m\u001b[0mgetpgid\u001b[0m\u001b[0;34m(\u001b[0m\u001b[0mp\u001b[0m\u001b[0;34m.\u001b[0m\u001b[0mpid\u001b[0m\u001b[0;34m)\u001b[0m\u001b[0;34m,\u001b[0m \u001b[0msignal\u001b[0m\u001b[0;34m.\u001b[0m\u001b[0mSIGTERM\u001b[0m\u001b[0;34m)\u001b[0m\u001b[0;34m\u001b[0m\u001b[0m\n\u001b[0m",
      "\u001b[0;31mProcessLookupError\u001b[0m: [Errno 3] No such process"
     ]
    }
   ],
   "source": [
    "os.killpg(os.getpgid(p.pid), signal.SIGTERM)"
   ]
  },
  {
   "cell_type": "markdown",
   "metadata": {},
   "source": [
    "# Multiple Client (multithread testing)\n",
    "- Run through this test sequentially\n",
    "- Look at terminal for logging that server creates"
   ]
  },
  {
   "cell_type": "markdown",
   "metadata": {},
   "source": [
    "## 1. Preparation\n",
    "- get file name of sample images\n",
    "- import client class"
   ]
  },
  {
   "cell_type": "code",
   "execution_count": 12,
   "metadata": {
    "collapsed": false
   },
   "outputs": [],
   "source": [
    "from os import listdir\n",
    "from os.path import isfile, join\n",
    "mypath = \"frontend/upload/you_images_all\"\n",
    "filenames = [f for f in listdir(mypath) if isfile(join(mypath, f))]"
   ]
  },
  {
   "cell_type": "code",
   "execution_count": 13,
   "metadata": {
    "collapsed": false
   },
   "outputs": [
    {
     "name": "stdout",
     "output_type": "stream",
     "text": [
      "10277\n",
      "['0096adf6bced11e19e4a12313813ffc0_7.jpg', '009d35d40be111e2949722000a1f90e1_7.jpg', '01ab7f5efea611e2ac7c22000a1f96a8_7.jpg', '01ecbe18b13111e38153128b961f8de0_8.jpg']\n"
     ]
    }
   ],
   "source": [
    "print(len(filenames))\n",
    "print(filenames[1:5])"
   ]
  },
  {
   "cell_type": "markdown",
   "metadata": {},
   "source": [
    "### Initialize client\n",
    "- import the client class"
   ]
  },
  {
   "cell_type": "code",
   "execution_count": 3,
   "metadata": {
    "collapsed": true
   },
   "outputs": [],
   "source": [
    "import sys\n",
    "sys.path.append('./server')\n",
    "from baseClient import dbClient\n",
    "from database import databaseAPI"
   ]
  },
  {
   "cell_type": "markdown",
   "metadata": {},
   "source": [
    "## 2. Test image insertion from multiple clients\n",
    "### Multithread insertion of images"
   ]
  },
  {
   "cell_type": "code",
   "execution_count": 4,
   "metadata": {
    "collapsed": true
   },
   "outputs": [],
   "source": [
    "images_per_group=5\n",
    "def clientinsert(group):\n",
    "    client = dbClient()\n",
    "    for count in range(images_per_group):\n",
    "        filenow = filenames[group*images_per_group+count+1]\n",
    "        client.insertImage(\"you_images_all/\"+filenow)\n",
    "    return True"
   ]
  },
  {
   "cell_type": "code",
   "execution_count": 15,
   "metadata": {
    "collapsed": false
   },
   "outputs": [
    {
     "data": {
      "text/plain": [
       "True"
      ]
     },
     "execution_count": 15,
     "metadata": {},
     "output_type": "execute_result"
    }
   ],
   "source": [
    "# single process\n",
    "clientinsert(0)"
   ]
  },
  {
   "cell_type": "code",
   "execution_count": 5,
   "metadata": {
    "collapsed": false
   },
   "outputs": [
    {
     "name": "stdout",
     "output_type": "stream",
     "text": [
      "[True, True, True, True, True, True, True, True, True, True, True, True, True, True, True, True, True, True, True, True, True, True, True, True, True, True, True, True, True, True, True, True, True, True, True, True, True, True, True, True, True, True, True, True, True, True, True, True, True, True]\n"
     ]
    }
   ],
   "source": [
    "# multi process\n",
    "import multiprocessing\n",
    "num=50\n",
    "p = multiprocessing.Pool(num)\n",
    "print(p.map(clientinsert,range(num)))\n"
   ]
  },
  {
   "cell_type": "markdown",
   "metadata": {},
   "source": [
    "## 3. Test insert model label from multiple clients\n",
    "### Multithread insertModelLabel"
   ]
  },
  {
   "cell_type": "code",
   "execution_count": 8,
   "metadata": {
    "collapsed": false
   },
   "outputs": [
    {
     "name": "stdout",
     "output_type": "stream",
     "text": [
      "[('0117dc99f07647d6',), ('01656de9d99333d2',), ('01ff831aff0432ec',), ('0376e50cf0e78c3b',), ('03ad165794770e97',)]\n",
      "249\n"
     ]
    }
   ],
   "source": [
    "# get all image_ids\n",
    "clientST = dbClient()\n",
    "image_ids=clientST.query(\"SELECT id FROM images limit 4000\")\n",
    "print(image_ids[:5])\n",
    "print(len(image_ids))"
   ]
  },
  {
   "cell_type": "code",
   "execution_count": 9,
   "metadata": {
    "collapsed": true
   },
   "outputs": [],
   "source": [
    "images_per_group=4\n",
    "def clientinsertModelLabel(group):\n",
    "    client = dbClient()\n",
    "    for count in range(images_per_group):\n",
    "        idnow = image_ids[group*images_per_group+count+1]\n",
    "        GOT_VALUE = client.insertModelLabel(idnow[0], label=group)\n",
    "    return GOT_VALUE"
   ]
  },
  {
   "cell_type": "code",
   "execution_count": 46,
   "metadata": {
    "collapsed": false
   },
   "outputs": [
    {
     "data": {
      "text/plain": [
       "True"
      ]
     },
     "execution_count": 46,
     "metadata": {},
     "output_type": "execute_result"
    }
   ],
   "source": [
    "# single process\n",
    "clientinsertModelLabel(4)"
   ]
  },
  {
   "cell_type": "code",
   "execution_count": 10,
   "metadata": {
    "collapsed": false
   },
   "outputs": [
    {
     "name": "stdout",
     "output_type": "stream",
     "text": [
      "[True, True, True, True, True, True, True, True, True, True, True, True, True, True, True, True, True, True, True, True, True, True, True, True, True, True, True, True, True, True, True, True, True, True, True, True, True, True, True, True, True, True, True, True, True, True, True, True, True, True]\n"
     ]
    }
   ],
   "source": [
    "# multi process\n",
    "import multiprocessing\n",
    "num=50\n",
    "p = multiprocessing.Pool(num)\n",
    "print(p.map(clientinsertModelLabel,range(num)))\n"
   ]
  },
  {
   "cell_type": "code",
   "execution_count": 10,
   "metadata": {
    "collapsed": false
   },
   "outputs": [
    {
     "name": "stdout",
     "output_type": "stream",
     "text": [
      "249\n",
      "[('73af8f723c844919', 0), ('534b57a87277411b', 0), ('5bb23311c33aec74', 0), ('57773c0335996589', 0), ('01ff831aff0432ec', 0), ('6f0da50685e170fb', 0), ('23d9dc23dd4e34a8', 0), ('7f9c7483634b8274', 0), ('99a857bca86747a1', 0), ('e3300e6f890eced3', 0), ('5154aeebb8b181d6', 0), ('0f87a4ca7b68c72a', 0)]\n"
     ]
    }
   ],
   "source": [
    "# check inserted labels\n",
    "image_id_label1=clientST.query(\"SELECT id, label FROM images\")\n",
    "print(len(image_id_label1))\n",
    "print(image_id_label1[100:112])"
   ]
  },
  {
   "cell_type": "code",
   "execution_count": 7,
   "metadata": {
    "collapsed": false
   },
   "outputs": [
    {
     "name": "stdout",
     "output_type": "stream",
     "text": [
      "0\n",
      "[]\n"
     ]
    }
   ],
   "source": [
    "# check inserted labels\n",
    "image_id_label=clientST.query(\"SELECT image_id, label FROM modelLabels\")\n",
    "print(len(image_id_label))\n",
    "print(image_id_label[0:5])"
   ]
  },
  {
   "cell_type": "markdown",
   "metadata": {},
   "source": [
    "## 4. Test get RandomImageWithWeakLabel from multiple clients\n",
    "### Multithread getRandomImageWithWeakLabel"
   ]
  },
  {
   "cell_type": "code",
   "execution_count": 4,
   "metadata": {
    "collapsed": false
   },
   "outputs": [],
   "source": [
    "from shutil import copyfile\n",
    "import os\n",
    "images_per_group=50\n",
    "def clientgetRandomImageWithWeakLabel(group):\n",
    "    # create subfolder\n",
    "    dirnow = \"frontend/upload/group\"+str(group)\n",
    "    if not os.path.exists(dirnow):\n",
    "        os.makedirs(dirnow)\n",
    "    # start to get random images\n",
    "    client = dbClient()\n",
    "    for count in range(images_per_group):\n",
    "        imag_dic = client.getRandomImageWithWeakLabel()\n",
    "        dst_now = dirnow + \"/\" + \"g\" + str(group) + \"i\" + str(count) + \"_\"+ imag_dic['path'].split('/')[-1]\n",
    "        copyfile(imag_dic['path'], dst_now)\n",
    "    return imag_dic"
   ]
  },
  {
   "cell_type": "code",
   "execution_count": 8,
   "metadata": {
    "collapsed": false
   },
   "outputs": [
    {
     "data": {
      "text/plain": [
       "True"
      ]
     },
     "execution_count": 8,
     "metadata": {},
     "output_type": "execute_result"
    }
   ],
   "source": [
    "# single process\n",
    "clientgetRandomImageWithWeakLabel(0)"
   ]
  },
  {
   "cell_type": "code",
   "execution_count": 5,
   "metadata": {
    "collapsed": false
   },
   "outputs": [
    {
     "name": "stdout",
     "output_type": "stream",
     "text": [
      "[{'id': 'a3714e887c13d3b9', 'labels': [43], 'path': '/Users/minglong/Desktop/CSE_2016/2nd_semester/AC297R/legendary/server/data/images/other/a3714e887c13d3b9.jpg'}, {'id': '6b69c49e98b8b499', 'labels': [26], 'path': '/Users/minglong/Desktop/CSE_2016/2nd_semester/AC297R/legendary/server/data/images/other/6b69c49e98b8b499.jpg'}, {'id': '5b9da3cc4502f26b', 'labels': [22], 'path': '/Users/minglong/Desktop/CSE_2016/2nd_semester/AC297R/legendary/server/data/images/other/5b9da3cc4502f26b.jpg'}, {'id': '8d49b3c9c739a638', 'labels': [37], 'path': '/Users/minglong/Desktop/CSE_2016/2nd_semester/AC297R/legendary/server/data/images/other/8d49b3c9c739a638.jpg'}, {'id': '01656de9d99333d2', 'labels': [0], 'path': '/Users/minglong/Desktop/CSE_2016/2nd_semester/AC297R/legendary/server/data/images/other/01656de9d99333d2.jpg'}, {'id': '4db17b87a4fc840e', 'labels': [18], 'path': '/Users/minglong/Desktop/CSE_2016/2nd_semester/AC297R/legendary/server/data/images/other/4db17b87a4fc840e.jpg'}, {'id': '8f83d25b33e9a483', 'labels': [37], 'path': '/Users/minglong/Desktop/CSE_2016/2nd_semester/AC297R/legendary/server/data/images/other/8f83d25b33e9a483.jpg'}, {'id': '65c5bb1a1b30a9c7', 'labels': [25], 'path': '/Users/minglong/Desktop/CSE_2016/2nd_semester/AC297R/legendary/server/data/images/other/65c5bb1a1b30a9c7.jpg'}, {'id': '4b96b468c53bc387', 'labels': [17], 'path': '/Users/minglong/Desktop/CSE_2016/2nd_semester/AC297R/legendary/server/data/images/other/4b96b468c53bc387.jpg'}, {'id': 'c3e70098fca8b772', 'labels': [48], 'path': '/Users/minglong/Desktop/CSE_2016/2nd_semester/AC297R/legendary/server/data/images/other/c3e70098fca8b772.jpg'}, {'id': 'c7154a58598de5e9', 'labels': [49], 'path': '/Users/minglong/Desktop/CSE_2016/2nd_semester/AC297R/legendary/server/data/images/other/c7154a58598de5e9.jpg'}, {'id': '01ff831aff0432ec', 'labels': [0], 'path': '/Users/minglong/Desktop/CSE_2016/2nd_semester/AC297R/legendary/server/data/images/other/01ff831aff0432ec.jpg'}, {'id': '65c5bb1a1b30a9c7', 'labels': [25], 'path': '/Users/minglong/Desktop/CSE_2016/2nd_semester/AC297R/legendary/server/data/images/other/65c5bb1a1b30a9c7.jpg'}, {'id': '33732953070d9bf8', 'labels': [12], 'path': '/Users/minglong/Desktop/CSE_2016/2nd_semester/AC297R/legendary/server/data/images/other/33732953070d9bf8.jpg'}, {'id': '97979d280d657c86', 'labels': [39], 'path': '/Users/minglong/Desktop/CSE_2016/2nd_semester/AC297R/legendary/server/data/images/other/97979d280d657c86.jpg'}, {'id': '5154aeebb8b181d6', 'labels': [19], 'path': '/Users/minglong/Desktop/CSE_2016/2nd_semester/AC297R/legendary/server/data/images/other/5154aeebb8b181d6.jpg'}, {'id': '5bb23311c33aec74', 'labels': [22], 'path': '/Users/minglong/Desktop/CSE_2016/2nd_semester/AC297R/legendary/server/data/images/other/5bb23311c33aec74.jpg'}, {'id': '93b3a066bf2b6a81', 'labels': [38], 'path': '/Users/minglong/Desktop/CSE_2016/2nd_semester/AC297R/legendary/server/data/images/other/93b3a066bf2b6a81.jpg'}, {'id': 'a95ff23046999cc3', 'labels': [44], 'path': '/Users/minglong/Desktop/CSE_2016/2nd_semester/AC297R/legendary/server/data/images/other/a95ff23046999cc3.jpg'}, {'id': '89749f01f61ce659', 'labels': [35], 'path': '/Users/minglong/Desktop/CSE_2016/2nd_semester/AC297R/legendary/server/data/images/other/89749f01f61ce659.jpg'}, {'id': '43adb65b24dc2c56', 'labels': [16], 'path': '/Users/minglong/Desktop/CSE_2016/2nd_semester/AC297R/legendary/server/data/images/other/43adb65b24dc2c56.jpg'}, {'id': '31c8669cf2bc951b', 'labels': [11], 'path': '/Users/minglong/Desktop/CSE_2016/2nd_semester/AC297R/legendary/server/data/images/other/31c8669cf2bc951b.jpg'}, {'id': '4b96b468c53bc387', 'labels': [17], 'path': '/Users/minglong/Desktop/CSE_2016/2nd_semester/AC297R/legendary/server/data/images/other/4b96b468c53bc387.jpg'}, {'id': '89a45ec5e65ed0a3', 'labels': [36], 'path': '/Users/minglong/Desktop/CSE_2016/2nd_semester/AC297R/legendary/server/data/images/other/89a45ec5e65ed0a3.jpg'}, {'id': '99669e666f911964', 'labels': [39], 'path': '/Users/minglong/Desktop/CSE_2016/2nd_semester/AC297R/legendary/server/data/images/other/99669e666f911964.jpg'}, {'id': '1f2f473ca71067d0', 'labels': [6], 'path': '/Users/minglong/Desktop/CSE_2016/2nd_semester/AC297R/legendary/server/data/images/other/1f2f473ca71067d0.jpg'}, {'id': '4107aba4bb7932dc', 'labels': [14], 'path': '/Users/minglong/Desktop/CSE_2016/2nd_semester/AC297R/legendary/server/data/images/other/4107aba4bb7932dc.jpg'}, {'id': 'afaa4a3333493b26', 'labels': [45], 'path': '/Users/minglong/Desktop/CSE_2016/2nd_semester/AC297R/legendary/server/data/images/other/afaa4a3333493b26.jpg'}, {'id': '8f83d25b33e9a483', 'labels': [37], 'path': '/Users/minglong/Desktop/CSE_2016/2nd_semester/AC297R/legendary/server/data/images/other/8f83d25b33e9a483.jpg'}, {'id': '0dd9f10f3ae1071e', 'labels': [2], 'path': '/Users/minglong/Desktop/CSE_2016/2nd_semester/AC297R/legendary/server/data/images/other/0dd9f10f3ae1071e.jpg'}, {'id': '33c9cca33a54a6a7', 'labels': [13], 'path': '/Users/minglong/Desktop/CSE_2016/2nd_semester/AC297R/legendary/server/data/images/other/33c9cca33a54a6a7.jpg'}, {'id': '0376e50cf0e78c3b', 'labels': [0], 'path': '/Users/minglong/Desktop/CSE_2016/2nd_semester/AC297R/legendary/server/data/images/other/0376e50cf0e78c3b.jpg'}, {'id': '6d9782e82507c87f', 'labels': [27], 'path': '/Users/minglong/Desktop/CSE_2016/2nd_semester/AC297R/legendary/server/data/images/other/6d9782e82507c87f.jpg'}, {'id': '0d81f399c63e3ccc', 'labels': [2], 'path': '/Users/minglong/Desktop/CSE_2016/2nd_semester/AC297R/legendary/server/data/images/other/0d81f399c63e3ccc.jpg'}, {'id': '8d49b3c9c739a638', 'labels': [37], 'path': '/Users/minglong/Desktop/CSE_2016/2nd_semester/AC297R/legendary/server/data/images/other/8d49b3c9c739a638.jpg'}, {'id': '23d9dc23dd4e34a8', 'labels': [8], 'path': '/Users/minglong/Desktop/CSE_2016/2nd_semester/AC297R/legendary/server/data/images/other/23d9dc23dd4e34a8.jpg'}, {'id': '3b97d7c229f95050', 'labels': [14], 'path': '/Users/minglong/Desktop/CSE_2016/2nd_semester/AC297R/legendary/server/data/images/other/3b97d7c229f95050.jpg'}, {'id': 'a1a1232b0b6bcbbd', 'labels': [42], 'path': '/Users/minglong/Desktop/CSE_2016/2nd_semester/AC297R/legendary/server/data/images/other/a1a1232b0b6bcbbd.jpg'}, {'id': 'a5b5c2e2a52ead38', 'labels': [43], 'path': '/Users/minglong/Desktop/CSE_2016/2nd_semester/AC297R/legendary/server/data/images/other/a5b5c2e2a52ead38.jpg'}, {'id': 'a15acfa539055b9c', 'labels': [41], 'path': '/Users/minglong/Desktop/CSE_2016/2nd_semester/AC297R/legendary/server/data/images/other/a15acfa539055b9c.jpg'}, {'id': '65c5bb1a1b30a9c7', 'labels': [25], 'path': '/Users/minglong/Desktop/CSE_2016/2nd_semester/AC297R/legendary/server/data/images/other/65c5bb1a1b30a9c7.jpg'}, {'id': '7975c42929729373', 'labels': [30], 'path': '/Users/minglong/Desktop/CSE_2016/2nd_semester/AC297R/legendary/server/data/images/other/7975c42929729373.jpg'}, {'id': 'a10525bdbf7e320a', 'labels': [41], 'path': '/Users/minglong/Desktop/CSE_2016/2nd_semester/AC297R/legendary/server/data/images/other/a10525bdbf7e320a.jpg'}, {'id': '11fc8ce7653c0d55', 'labels': [4], 'path': '/Users/minglong/Desktop/CSE_2016/2nd_semester/AC297R/legendary/server/data/images/other/11fc8ce7653c0d55.jpg'}, {'id': '13c79df3dc75c004', 'labels': [4], 'path': '/Users/minglong/Desktop/CSE_2016/2nd_semester/AC297R/legendary/server/data/images/other/13c79df3dc75c004.jpg'}, {'id': '23e6142189b4f8ff', 'labels': [8], 'path': '/Users/minglong/Desktop/CSE_2016/2nd_semester/AC297R/legendary/server/data/images/other/23e6142189b4f8ff.jpg'}, {'id': '736c9ee109237cc3', 'labels': [28], 'path': '/Users/minglong/Desktop/CSE_2016/2nd_semester/AC297R/legendary/server/data/images/other/736c9ee109237cc3.jpg'}, {'id': '31c8669cf2bc951b', 'labels': [11], 'path': '/Users/minglong/Desktop/CSE_2016/2nd_semester/AC297R/legendary/server/data/images/other/31c8669cf2bc951b.jpg'}, {'id': '65c5bb1a1b30a9c7', 'labels': [25], 'path': '/Users/minglong/Desktop/CSE_2016/2nd_semester/AC297R/legendary/server/data/images/other/65c5bb1a1b30a9c7.jpg'}, {'id': '5996ec6f0704b8d9', 'labels': [22], 'path': '/Users/minglong/Desktop/CSE_2016/2nd_semester/AC297R/legendary/server/data/images/other/5996ec6f0704b8d9.jpg'}]\n"
     ]
    }
   ],
   "source": [
    "# multi process\n",
    "import multiprocessing\n",
    "num=50\n",
    "p = multiprocessing.Pool(num)\n",
    "print(p.map(clientgetRandomImageWithWeakLabel,range(num)))"
   ]
  },
  {
   "cell_type": "markdown",
   "metadata": {},
   "source": [
    "## 5. Test predict and insert from multiple clients\n",
    "### Multithread predict_and_insert"
   ]
  },
  {
   "cell_type": "code",
   "execution_count": 25,
   "metadata": {
    "collapsed": true
   },
   "outputs": [],
   "source": [
    "images_per_group=1\n",
    "def clientpredict_and_insert(group):\n",
    "    client = dbClient()\n",
    "    for count in range(images_per_group):\n",
    "        filenow = filenames[group*images_per_group+count+1]\n",
    "        # GOT_VALUE = client.predict_and_insert(\"./\"+filenow)\n",
    "        GOT_VALUE = client.predict_and_insert(\"you_images_all/\" + filenow)\n",
    "    return GOT_VALUE[0]"
   ]
  },
  {
   "cell_type": "code",
   "execution_count": 28,
   "metadata": {
    "collapsed": false
   },
   "outputs": [
    {
     "data": {
      "text/plain": [
       "(0.93678659, 'amusement')"
      ]
     },
     "execution_count": 28,
     "metadata": {},
     "output_type": "execute_result"
    }
   ],
   "source": [
    "# single process\n",
    "clientpredict_and_insert(0)"
   ]
  },
  {
   "cell_type": "code",
   "execution_count": 31,
   "metadata": {
    "collapsed": false
   },
   "outputs": [],
   "source": [
    "# multi process\n",
    "import multiprocessing\n",
    "num=50\n",
    "p = multiprocessing.Pool(num)\n",
    "kkk = p.map(clientpredict_and_insert,range(num))"
   ]
  },
  {
   "cell_type": "code",
   "execution_count": 34,
   "metadata": {
    "collapsed": false
   },
   "outputs": [
    {
     "data": {
      "text/plain": [
       "[(0.93678659, 'amusement'),\n",
       " (0.39507085, 'amusement'),\n",
       " (0.93013132, 'amusement'),\n",
       " (0.67472547, 'contentment'),\n",
       " (0.24057609, 'amusement'),\n",
       " (0.94036657, 'amusement'),\n",
       " (0.51355696, 'amusement'),\n",
       " (0.57298118, 'amusement'),\n",
       " (0.50214636, 'contentment'),\n",
       " (0.63608772, 'amusement'),\n",
       " (0.4846873, 'contentment'),\n",
       " (0.78308022, 'contentment'),\n",
       " (0.81969178, 'amusement'),\n",
       " (0.81849784, 'amusement'),\n",
       " (0.72596604, 'amusement'),\n",
       " (0.75963759, 'contentment'),\n",
       " (0.90725046, 'amusement'),\n",
       " (0.88336599, 'amusement'),\n",
       " (0.73755699, 'amusement'),\n",
       " (0.25005716, 'sadness'),\n",
       " (0.36671564, 'excitement'),\n",
       " (0.5894205, 'awe'),\n",
       " (0.86518687, 'contentment'),\n",
       " (0.6370399, 'contentment'),\n",
       " (0.29111123, 'awe'),\n",
       " (0.62590128, 'amusement'),\n",
       " (0.40293154, 'contentment'),\n",
       " (0.93654972, 'amusement'),\n",
       " (0.96512526, 'amusement'),\n",
       " (0.80930763, 'amusement'),\n",
       " (0.93160796, 'amusement'),\n",
       " (0.27830276, 'amusement'),\n",
       " (0.25363567, 'contentment'),\n",
       " (0.90961301, 'amusement'),\n",
       " (0.94299346, 'amusement'),\n",
       " (0.93920183, 'amusement'),\n",
       " (0.70148784, 'amusement'),\n",
       " (0.8679238, 'amusement'),\n",
       " (0.8973285, 'amusement'),\n",
       " (0.94308215, 'amusement'),\n",
       " (0.59573853, 'amusement'),\n",
       " (0.97232467, 'contentment'),\n",
       " (0.30342221, 'contentment'),\n",
       " (0.84051663, 'amusement'),\n",
       " (0.97666812, 'amusement'),\n",
       " (0.83539176, 'amusement'),\n",
       " (0.68115538, 'amusement'),\n",
       " (0.72904295, 'amusement'),\n",
       " (0.30467391, 'awe'),\n",
       " (0.76988697, 'amusement')]"
      ]
     },
     "execution_count": 34,
     "metadata": {},
     "output_type": "execute_result"
    }
   ],
   "source": [
    "kkk"
   ]
  },
  {
   "cell_type": "code",
   "execution_count": null,
   "metadata": {
    "collapsed": true
   },
   "outputs": [],
   "source": []
  },
  {
   "cell_type": "code",
   "execution_count": null,
   "metadata": {
    "collapsed": true
   },
   "outputs": [],
   "source": []
  },
  {
   "cell_type": "code",
   "execution_count": null,
   "metadata": {
    "collapsed": true
   },
   "outputs": [],
   "source": []
  },
  {
   "cell_type": "markdown",
   "metadata": {},
   "source": [
    "# The following is debugging code"
   ]
  },
  {
   "cell_type": "markdown",
   "metadata": {},
   "source": [
    "### Print out db"
   ]
  },
  {
   "cell_type": "code",
   "execution_count": 8,
   "metadata": {
    "collapsed": false
   },
   "outputs": [
    {
     "name": "stdout",
     "output_type": "stream",
     "text": [
      "images:\n",
      "  0: id(TEXT PRIMATY KEY) \n",
      "  1: path(TEXT) \n",
      "  2: label(INTEGER) \n",
      "  3: confidence(INTEGER) \n",
      "  4: source(TEXT) \n",
      "  5: comment(TEXT) \n",
      "labelType:\n",
      "  0: id(INTEGER) *1 \n",
      "  1: name(TEXT) \n",
      "modelLabels:\n",
      "  0: id(INTEGER) *1 \n",
      "  1: model(TEXT) \n",
      "  2: image_id(TEXT) \n",
      "  3: label(INTEGER) \n",
      "  4: confidence(REAL) \n",
      "models:\n",
      "  0: name(TEXT) \n",
      "  1: path(TEXT) \n",
      "  2: accuracy(REAL) \n",
      "\n"
     ]
    }
   ],
   "source": [
    "#create db instance\n",
    "from server.database import databaseAPI\n",
    "db=databaseAPI('server/test.db','server/data')\n",
    "print(db.printSchemas())"
   ]
  },
  {
   "cell_type": "code",
   "execution_count": null,
   "metadata": {
    "collapsed": true
   },
   "outputs": [],
   "source": []
  },
  {
   "cell_type": "code",
   "execution_count": null,
   "metadata": {
    "collapsed": true
   },
   "outputs": [],
   "source": []
  },
  {
   "cell_type": "code",
   "execution_count": null,
   "metadata": {
    "collapsed": true
   },
   "outputs": [],
   "source": []
  },
  {
   "cell_type": "code",
   "execution_count": 46,
   "metadata": {
    "collapsed": false
   },
   "outputs": [
    {
     "name": "stderr",
     "output_type": "stream",
     "text": [
      "Process Process-44:\n",
      "Traceback (most recent call last):\n",
      "  File \"/Applications/anaconda/envs/py35/lib/python3.5/multiprocessing/process.py\", line 249, in _bootstrap\n",
      "    self.run()\n",
      "  File \"/Applications/anaconda/envs/py35/lib/python3.5/multiprocessing/process.py\", line 93, in run\n",
      "    self._target(*self._args, **self._kwargs)\n",
      "TypeError: 'bool' object is not callable\n"
     ]
    }
   ],
   "source": [
    "import multiprocessing\n",
    "jobs=[]\n",
    "p1 = multiprocessing.Process(target=clientinsert(1))\n",
    "jobs.append(p1)\n",
    "p1.start()\n"
   ]
  },
  {
   "cell_type": "code",
   "execution_count": 8,
   "metadata": {
    "collapsed": false
   },
   "outputs": [],
   "source": [
    "from server.baseClient import dbClient\n",
    "import sys\n",
    "sys.path.append('./server')\n",
    "from server.database import databaseAPI"
   ]
  },
  {
   "cell_type": "code",
   "execution_count": null,
   "metadata": {
    "collapsed": true
   },
   "outputs": [],
   "source": []
  },
  {
   "cell_type": "code",
   "execution_count": 11,
   "metadata": {
    "collapsed": false
   },
   "outputs": [
    {
     "name": "stdout",
     "output_type": "stream",
     "text": [
      "['no such table: images', 'no such table: images', 'no such table: images', 'no such table: images', 'no such table: images', 'no such table: images']\n"
     ]
    }
   ],
   "source": [
    "import multiprocessing\n",
    "def clientquery(x):\n",
    "    client = dbClient()\n",
    "    return(client.query(\"SELECT COUNT(*) FROM images\"))\n",
    "\n",
    "num=6\n",
    "p = multiprocessing.Pool(num)\n",
    "print(p.map(clientquery,range(num)))"
   ]
  },
  {
   "cell_type": "code",
   "execution_count": 13,
   "metadata": {
    "collapsed": false
   },
   "outputs": [],
   "source": [
    "def clientinsert(x):\n",
    "    client = dbClient()\n",
    "    return(client.insertImage(x))\n",
    "jobs=[]\n",
    "p1 = multiprocessing.Process(target=clientinsert(\"samples/img_from_tweet_7908_0.jpg\"))\n",
    "jobs.append(p1)\n",
    "p1.start()\n"
   ]
  },
  {
   "cell_type": "code",
   "execution_count": 17,
   "metadata": {
    "collapsed": false
   },
   "outputs": [],
   "source": [
    "p1 = multiprocessing.Process(target=clientinsert(\"samples/img_from_tweet_9388_0.jpg\"))\n",
    "p1.start()"
   ]
  },
  {
   "cell_type": "code",
   "execution_count": 23,
   "metadata": {
    "collapsed": false
   },
   "outputs": [
    {
     "data": {
      "text/plain": [
       "[<Process(Process-21, stopped)>,\n",
       " <Process(Process-29, stopped)>,\n",
       " <Process(Process-29, stopped)>,\n",
       " <Process(Process-30, stopped[1])>,\n",
       " <Process(Process-43, started)>]"
      ]
     },
     "execution_count": 23,
     "metadata": {},
     "output_type": "execute_result"
    },
    {
     "name": "stderr",
     "output_type": "stream",
     "text": [
      "Process Process-43:\n",
      "Traceback (most recent call last):\n",
      "  File \"/Applications/anaconda/envs/py35/lib/python3.5/multiprocessing/process.py\", line 249, in _bootstrap\n",
      "    self.run()\n",
      "  File \"/Applications/anaconda/envs/py35/lib/python3.5/multiprocessing/process.py\", line 93, in run\n",
      "    self._target(*self._args, **self._kwargs)\n",
      "TypeError: clientquery() missing 1 required positional argument: 'x'\n"
     ]
    }
   ],
   "source": [
    "p1 = multiprocessing.Process(target=clientquery)\n",
    "jobs.append(p1)\n",
    "p1.start()\n",
    "jobs"
   ]
  },
  {
   "cell_type": "code",
   "execution_count": 24,
   "metadata": {
    "collapsed": false
   },
   "outputs": [
    {
     "data": {
      "text/plain": [
       "[<Process(Process-21, stopped)>,\n",
       " <Process(Process-29, stopped)>,\n",
       " <Process(Process-29, stopped)>,\n",
       " <Process(Process-30, stopped[1])>,\n",
       " <Process(Process-43, stopped[1])>]"
      ]
     },
     "execution_count": 24,
     "metadata": {},
     "output_type": "execute_result"
    }
   ],
   "source": [
    "jobs"
   ]
  },
  {
   "cell_type": "markdown",
   "metadata": {},
   "source": [
    "# Server Client"
   ]
  },
  {
   "cell_type": "code",
   "execution_count": 10,
   "metadata": {
    "collapsed": false
   },
   "outputs": [],
   "source": [
    "#create client\n",
    "from server.baseClient import dbClient\n",
    "client = dbClient()"
   ]
  },
  {
   "cell_type": "code",
   "execution_count": 18,
   "metadata": {
    "collapsed": false
   },
   "outputs": [
    {
     "name": "stderr",
     "output_type": "stream",
     "text": [
      "INFO:root:client: sending predict_and_insert request\n"
     ]
    },
    {
     "name": "stdout",
     "output_type": "stream",
     "text": [
      "True\n"
     ]
    }
   ],
   "source": [
    "#insert image, do prediction and insert label\n",
    "print(client.predict_and_insert('test.jpeg'))"
   ]
  },
  {
   "cell_type": "code",
   "execution_count": 85,
   "metadata": {
    "collapsed": false
   },
   "outputs": [
    {
     "data": {
      "text/plain": [
       "{'id': '834172f9d8bc325e',\n",
       " 'labels': [1, 3],\n",
       " 'path': '/Users/minglong/Desktop/CSE_2016/2nd_semester/AC297R/legendary/server/data/images/other/834172f9d8bc325e.jpg'}"
      ]
     },
     "execution_count": 85,
     "metadata": {},
     "output_type": "execute_result"
    }
   ],
   "source": [
    "kkk = client.getRandomImageWithWeakLabel()\n",
    "type(kkk)\n",
    "kkk"
   ]
  },
  {
   "cell_type": "code",
   "execution_count": 81,
   "metadata": {
    "collapsed": false
   },
   "outputs": [
    {
     "data": {
      "text/plain": [
       "[0, 2]"
      ]
     },
     "execution_count": 81,
     "metadata": {},
     "output_type": "execute_result"
    }
   ],
   "source": [
    "kkk['labels']"
   ]
  },
  {
   "cell_type": "code",
   "execution_count": 75,
   "metadata": {
    "collapsed": false
   },
   "outputs": [
    {
     "data": {
      "text/plain": [
       "'4b4f4313f13c8dcc.jpg'"
      ]
     },
     "execution_count": 75,
     "metadata": {},
     "output_type": "execute_result"
    }
   ],
   "source": [
    "kkk['path'].split('/')[-1]"
   ]
  },
  {
   "cell_type": "code",
   "execution_count": 15,
   "metadata": {
    "collapsed": false
   },
   "outputs": [
    {
     "data": {
      "text/plain": [
       "\"'NoneType' object has no attribute 'split'\""
      ]
     },
     "execution_count": 15,
     "metadata": {},
     "output_type": "execute_result"
    }
   ],
   "source": [
    "client.predict_and_insert(\"wayward_pines_images/\"+filenames[5])"
   ]
  },
  {
   "cell_type": "code",
   "execution_count": null,
   "metadata": {
    "collapsed": true
   },
   "outputs": [],
   "source": [
    "        filenow = filenames[group*images_per_group+count+1]\n",
    "        client.insertImage(\"wayward_pines_images/\"+filenow)"
   ]
  },
  {
   "cell_type": "code",
   "execution_count": 7,
   "metadata": {
    "collapsed": false
   },
   "outputs": [
    {
     "data": {
      "text/plain": [
       "'img_from_tweet_56168_0.jpg'"
      ]
     },
     "execution_count": 7,
     "metadata": {},
     "output_type": "execute_result"
    }
   ],
   "source": [
    "filenames[3]"
   ]
  },
  {
   "cell_type": "code",
   "execution_count": null,
   "metadata": {
    "collapsed": true
   },
   "outputs": [],
   "source": []
  },
  {
   "cell_type": "code",
   "execution_count": 56,
   "metadata": {
    "collapsed": true
   },
   "outputs": [],
   "source": [
    "image_id_label=client.query(\"SELECT image_id, label FROM modelLabels\")"
   ]
  },
  {
   "cell_type": "code",
   "execution_count": 60,
   "metadata": {
    "collapsed": false
   },
   "outputs": [
    {
     "data": {
      "text/plain": [
       "[('6b4bc46468bcb696', 3),\n",
       " ('6b5318dcc665263d', 3),\n",
       " ('6b78a664c66a17f0', 3),\n",
       " ('6b8ba960c4a91e7e', 3),\n",
       " ('6bccd737868cd209', 3),\n",
       " ('6bd318dcc6672634', 3),\n",
       " ('6d55e589d2bcd0a1', 3),\n",
       " ('6d58a0461fb7623d', 3),\n",
       " ('6d939312a56dd94a', 3),\n",
       " ('6ddbb22cc494565a', 3),\n",
       " ('6ddfef20900c1477', 3),\n",
       " ('6de9dc865683433c', 3),\n",
       " ('6df8d20d96963233', 3),\n",
       " ('6f17862e1e9a1c4b', 3),\n",
       " ('6f574ca3944cb1b4', 3),\n",
       " ('6f8694c93659d235', 3),\n",
       " ('6f9191ba46c6906f', 3),\n",
       " ('6f91c817dde428a9', 3),\n",
       " ('6fe31e903817dc58', 3),\n",
       " ('714496356d9abc39', 3),\n",
       " ('71459475699abc39', 3),\n",
       " ('714b9e7061c72799', 3),\n",
       " ('716755a37393ba10', 3),\n",
       " ('717545aac97091ee', 3),\n",
       " ('717b8e81a316d987', 3),\n",
       " ('718a75635ef5a284', 3),\n",
       " ('71ce8dd689462b99', 3),\n",
       " ('71d78b2b74d48329', 3),\n",
       " ('71e346f9460d3b1c', 3),\n",
       " ('71e9a8ad873594a5', 3),\n",
       " ('71f40f0f4f207ac3', 3),\n",
       " ('71f70f0b21b1b18e', 3),\n",
       " ('731b0ccc3367cc8b', 3),\n",
       " ('73436773714c33a2', 3),\n",
       " ('7347236631cc3ab6', 3),\n",
       " ('73638ccc99cc9ccc', 3),\n",
       " ('73639c4c99ce9c8c', 3),\n",
       " ('736d96cccc99cc11', 3),\n",
       " ('7389b9b105877371', 3),\n",
       " ('738d2e728d36d20d', 3),\n",
       " ('738e871fc728059b', 3),\n",
       " ('73c49cb14c93e4cd', 3),\n",
       " ('73d67921562de113', 3),\n",
       " ('73e2cc9b8c8ccc33', 3),\n",
       " ('75133d92730b6457', 3),\n",
       " ('752a8ddaaac55463', 3),\n",
       " ('753c86c39658f1a3', 3),\n",
       " ('753c86c3d278d1a3', 3),\n",
       " ('758d8976c9dc29c2', 3),\n",
       " ('75930fe309e499cc', 3),\n",
       " ('770743b45ea5c2e8', 3),\n",
       " ('772f0f1f8ccc0c1a', 3),\n",
       " ('7739f8e760606319', 3),\n",
       " ('77950b4be32d42a9', 3),\n",
       " ('77983661a39c6971', 3),\n",
       " ('77a72b48d8328c79', 3),\n",
       " ('77cb83b46d492989', 3),\n",
       " ('77cfc78fd28a0428', 3),\n",
       " ('77ef1e1931668a88', 3),\n",
       " ('790be4c3c3e31639', 3),\n",
       " ('7924d176b8738e13', 3),\n",
       " ('794d8dfc21592678', 3),\n",
       " ('79870d6ac163d9d4', 3),\n",
       " ('799424f9a6c65a5a', 3),\n",
       " ('79a4d97698738613', 3),\n",
       " ('79a4d976b8718613', 3),\n",
       " ('79a7178078b42dd5', 3),\n",
       " ('79b47a9e6a8a488e', 3),\n",
       " ('79b7264c8ce18d33', 3),\n",
       " ('79cd0e52c1b63b4c', 3),\n",
       " ('79f3b46c26274e14', 3),\n",
       " ('7b00f8fd854b490f', 3),\n",
       " ('7b2004ff8c36ccb3', 3),\n",
       " ('7b3b6360c77e208c', 3),\n",
       " ('7b3bb1c678cf1801', 3),\n",
       " ('7b5f362723218563', 3),\n",
       " ('7b7f9f9f06290880', 3),\n",
       " ('7b839378e49b06f0', 3),\n",
       " ('7b855ba80651eb36', 3),\n",
       " ('7b909661d9b6864d', 3),\n",
       " ('7d1f1eaa8181ec1e', 3),\n",
       " ('7d3cc6c396183333', 3),\n",
       " ('7d4336d98cc98798', 3),\n",
       " ('7daaa25a7cbc824a', 3),\n",
       " ('7f13a9bc2a6c5348', 3),\n",
       " ('7f161e1e5e5a5821', 3),\n",
       " ('7f1f3e3f4f028808', 3),\n",
       " ('7f21815e64de817c', 3),\n",
       " ('7f3f80cc186331e3', 3),\n",
       " ('7f41ae1fe19e9240', 3),\n",
       " ('7f773024b3c043e9', 3),\n",
       " ('81033171ee0b5dfe', 3),\n",
       " ('810a7cfd29b1c3d6', 3),\n",
       " ('814f7cb9d35e2123', 3),\n",
       " ('81714ed965b719a3', 3),\n",
       " ('8176d8b9e6341dcc', 3),\n",
       " ('81997aa4c652bcfc', 3),\n",
       " ('81fdf1f15a21221f', 3),\n",
       " ('83033c3ddcccdc8d', 3),\n",
       " ('83097c7263ada1f6', 3)]"
      ]
     },
     "execution_count": 60,
     "metadata": {},
     "output_type": "execute_result"
    }
   ],
   "source": [
    "image_id_label[2000:2100]"
   ]
  },
  {
   "cell_type": "code",
   "execution_count": 22,
   "metadata": {
    "collapsed": false
   },
   "outputs": [
    {
     "name": "stdout",
     "output_type": "stream",
     "text": [
      "[(1331,)]\n"
     ]
    }
   ],
   "source": [
    "#query\n",
    "print(client.query(\"SELECT id FROM images\"))"
   ]
  },
  {
   "cell_type": "code",
   "execution_count": 19,
   "metadata": {
    "collapsed": false
   },
   "outputs": [
    {
     "name": "stderr",
     "output_type": "stream",
     "text": [
      "INFO:root:client: sending query\n"
     ]
    },
    {
     "name": "stdout",
     "output_type": "stream",
     "text": [
      "[(1, 'testing', 'a9535674ec565c0e', 8, 0.0), (2, 'testing', 'a9535674ec565c0e', 3, 0.0)]\n"
     ]
    }
   ],
   "source": [
    "print(client.query(\"SELECT * FROM modelLabels\"))"
   ]
  },
  {
   "cell_type": "code",
   "execution_count": 6,
   "metadata": {
    "collapsed": false
   },
   "outputs": [
    {
     "name": "stderr",
     "output_type": "stream",
     "text": [
      "INFO:root:client: requesting weak label\n"
     ]
    },
    {
     "name": "stdout",
     "output_type": "stream",
     "text": [
      "{'id': '23646c9bd4e99c9a', 'path': '/Users/wangmeili/Documents/sedma/server/data/images/other/23646c9bd4e99c9a.jpg', 'labels': [3, 4]}\n"
     ]
    }
   ],
   "source": [
    "#get random. only work when there are weak labels\n",
    "print(client.getRandomImageWithWeakLabel())"
   ]
  },
  {
   "cell_type": "code",
   "execution_count": 16,
   "metadata": {
    "collapsed": false
   },
   "outputs": [
    {
     "name": "stdout",
     "output_type": "stream",
     "text": [
      "a9535674ec565c0e duplicated entry, insert reverted\n"
     ]
    }
   ],
   "source": [
    "#insert image but no prediction\n",
    "print(client.insertImage('test.jpeg'))"
   ]
  },
  {
   "cell_type": "markdown",
   "metadata": {},
   "source": [
    "# Data Base Client"
   ]
  },
  {
   "cell_type": "code",
   "execution_count": 7,
   "metadata": {
    "collapsed": false
   },
   "outputs": [],
   "source": [
    "#create db instance\n",
    "from server.database import databaseAPI\n",
    "db=databaseAPI('server/test.db','server/data')"
   ]
  },
  {
   "cell_type": "code",
   "execution_count": 8,
   "metadata": {
    "collapsed": false
   },
   "outputs": [
    {
     "name": "stdout",
     "output_type": "stream",
     "text": [
      "[(1450,)]\n"
     ]
    }
   ],
   "source": [
    "print(db.query_meta(\"SELECT COUNT(*) FROM images\"))"
   ]
  },
  {
   "cell_type": "code",
   "execution_count": 4,
   "metadata": {
    "collapsed": false
   },
   "outputs": [
    {
     "name": "stdout",
     "output_type": "stream",
     "text": [
      "{'labels': [1, 6], 'id': 'bb4ce465d2962c8e', 'path': '/Users/wangmeili/Documents/sedma/server/data/images/other/bb4ce465d2962c8e.jpg'}\n"
     ]
    }
   ],
   "source": [
    "print(db.getRandomImageWithWeakLabel())"
   ]
  },
  {
   "cell_type": "code",
   "execution_count": 5,
   "metadata": {
    "collapsed": false
   },
   "outputs": [
    {
     "name": "stdout",
     "output_type": "stream",
     "text": [
      "[('a9535674ec565c0e',), ('a15ee83ccb9231a7',), ('57ccab23b1a6cc4a',), ('61031bb2f5d90ec7',), ('5f81e81ac6e73139',), ('d319632c78c38e9b',), ('87968ec64c636a73',), ('b5a3164c2d1f93e1',), ('23646c9bd4e99c9a',), ('ef619b1616ba61c1',), ('f3610c9b63cc6699',), ('8f0738cf44f946e4',), ('87b6b3c339266319',), ('91b76e482678b867',), ('1fc9e53319c66d06',), ('67399c6d07499c36',), ('a308d6f2a763989d',), ('6b90386f90abc6f8',), ('bd3bc34db941e051',), ('af765cf05ca184a9',), ('2939dac7a46825ed',), ('774cd3f9102941af',), ('5749ada1a139b996',), ('358306fccdc1cbc6',), ('75f206439b182fe3',), ('ad6f411badd2881e',), ('5f93a9893939b238',), ('d78d60396f511b92',), ('bb4ce465d2962c8e',), ('99b20c3ef46c96cc',), ('99666ed8625ea42d',), ('3b61609ece08997f',), ('83d353786d8e868b',), ('d783c63423e7722c',), ('17e7e405143c7b5a',), ('e3e3850505727e6e',), ('1fcbd1511bab2625',), ('5b31b20eec093eec',), ('017d470df094f8f3',), ('8f654c9d771f8043',), ('d720fc0f07f1391c',), ('1db1a7854846dbe9',), ('770a90aa1d751bc7',), ('5b6e27131925a6e3',), ('fd47a79105c9c14e',), ('9b3664d99807dbc8',), ('ff091bf401872db8',), ('b7a28d5c6306d8ec',)]\n"
     ]
    }
   ],
   "source": [
    "print(db.query_meta(\"SELECT id FROM images WHERE label=0\"))"
   ]
  },
  {
   "cell_type": "code",
   "execution_count": 6,
   "metadata": {
    "collapsed": false
   },
   "outputs": [],
   "source": [
    "db.insertMultipleImagesParallel('tempimages')"
   ]
  },
  {
   "cell_type": "code",
   "execution_count": 14,
   "metadata": {
    "collapsed": false
   },
   "outputs": [
    {
     "data": {
      "text/plain": [
       "True"
      ]
     },
     "execution_count": 14,
     "metadata": {},
     "output_type": "execute_result"
    }
   ],
   "source": [
    "db.removeModelLabel(image_id='a9535674ec565c0e duplicated entry, insert reverted')"
   ]
  },
  {
   "cell_type": "code",
   "execution_count": 6,
   "metadata": {
    "collapsed": false
   },
   "outputs": [
    {
     "name": "stdout",
     "output_type": "stream",
     "text": [
      "[('data/images/other/00767f1797130301.jpeg', '00767f1797130301'), ('data/images/other/787e7c7878707070.jpeg', '787e7c7878707070'), ('data/images/other/3f3e3e3e3e3e3e20.jpeg', '3f3e3e3e3e3e3e20'), ('data/images/other/027e7e7e7e7e7000.jpeg', '027e7e7e7e7e7000'), ('data/images/other/007f7f7e60400000.jpeg', '007f7f7e60400000'), ('data/images/other/01ffffff1f1f0f00.jpeg', '01ffffff1f1f0f00')]\n"
     ]
    }
   ],
   "source": [
    "print(db.query_meta(\"SELECT path, id from images\"))"
   ]
  },
  {
   "cell_type": "code",
   "execution_count": 4,
   "metadata": {
    "collapsed": false
   },
   "outputs": [
    {
     "name": "stdout",
     "output_type": "stream",
     "text": [
      "2017-03-16 21:33:24,946 - root - INFO - checking images\n",
      "2017-03-16 21:33:24,949 - root - WARNING - 3f3e3e3e3e3e3e20 not in file system\n",
      "2017-03-16 21:33:24,953 - root - WARNING - 00767f1797130301 not in file system\n",
      "2017-03-16 21:33:24,956 - root - WARNING - 027e7e7e7e7e7000 not in file system\n",
      "2017-03-16 21:33:24,958 - root - WARNING - 01ffffff1f1f0f00 not in file system\n",
      "2017-03-16 21:33:24,960 - root - WARNING - 007f7f7e60400000 not in file system\n",
      "2017-03-16 21:33:24,963 - root - WARNING - 787e7c7878707070 not in file system\n",
      "2017-03-16 21:33:24,966 - root - INFO - checking models\n",
      "2017-03-16 21:33:24,968 - root - INFO - Done\n"
     ]
    }
   ],
   "source": [
    "db.synchronize()"
   ]
  },
  {
   "cell_type": "code",
   "execution_count": 12,
   "metadata": {
    "collapsed": false
   },
   "outputs": [
    {
     "name": "stdout",
     "output_type": "stream",
     "text": [
      "True\n"
     ]
    }
   ],
   "source": [
    "print(db.query_meta('SELECT * FROM images where id = \"8080707efec1c3f7\"')==[('8080707efec1c3f7', 'data/images/other/8080707efec1c3f7.jpg', 'NULL', 5, 'other', 'NULL')])"
   ]
  },
  {
   "cell_type": "code",
   "execution_count": 21,
   "metadata": {
    "collapsed": false
   },
   "outputs": [],
   "source": [
    "db.removeImage('007f7f7e60400000')"
   ]
  },
  {
   "cell_type": "code",
   "execution_count": 5,
   "metadata": {
    "collapsed": false
   },
   "outputs": [
    {
     "name": "stdout",
     "output_type": "stream",
     "text": [
      "images:\n",
      "  0: id(TEXT PRIMATY KEY) \n",
      "  1: path(TEXT) \n",
      "  2: label(INTEGER) \n",
      "  3: confidence(INTEGER) \n",
      "  4: source(TEXT) \n",
      "  5: comment(TEXT) \n",
      "labelType:\n",
      "  0: id(INTEGER) *1 \n",
      "  1: name(TEXT) \n",
      "modelLabels:\n",
      "  0: id(INTEGER) *1 \n",
      "  1: model(TEXT) \n",
      "  2: image_id(TEXT) \n",
      "  3: label(INTEGER) \n",
      "  4: confidence(REAL) \n",
      "models:\n",
      "  0: name(TEXT) \n",
      "  1: path(TEXT) \n",
      "  2: accuracy(REAL) \n",
      "\n"
     ]
    }
   ],
   "source": [
    "print(db.printSchemas())"
   ]
  },
  {
   "cell_type": "code",
   "execution_count": 14,
   "metadata": {
    "collapsed": false
   },
   "outputs": [
    {
     "name": "stdout",
     "output_type": "stream",
     "text": [
      "images:\n",
      "  0: id(TEXT PRIMATY KEY)\n",
      "  1: path(TEXT)\n",
      "  2: label(TEXT)\n",
      "  3: confidence(INTEGER)\n",
      "  4: source(TEXT)\n",
      "  5: comment(TEXT)\n",
      "modelLabels:\n",
      "  0: id(INTEGER PRIMATY KEY)\n",
      "  1: model(TEXT)\n",
      "  2: image_id(TEXT)\n",
      "  3: label(TEXT)\n",
      "  4: confidence(REAL)\n",
      "models:\n",
      "  0: name(TEXT)\n",
      "  1: path(TEXT)\n",
      "  2: accuracy(REAL)\n"
     ]
    }
   ],
   "source": [
    "db.printSchemas()"
   ]
  },
  {
   "cell_type": "markdown",
   "metadata": {},
   "source": [
    "# Image"
   ]
  },
  {
   "cell_type": "code",
   "execution_count": 29,
   "metadata": {
    "collapsed": false
   },
   "outputs": [
    {
     "name": "stdout",
     "output_type": "stream",
     "text": [
      "c000000000000000\n"
     ]
    }
   ],
   "source": [
    "#create new image\n",
    "from PIL import Image\n",
    "im=Image.new(\"RGB\", (512, 512))\n",
    "data=[(i//3,0,i//3) for i in range(512)]\n",
    "im.putdata(data)\n",
    "\n",
    "print(database.utility.hashImage(im))\n",
    "#im.show()"
   ]
  },
  {
   "cell_type": "code",
   "execution_count": 8,
   "metadata": {
    "collapsed": false
   },
   "outputs": [
    {
     "name": "stdout",
     "output_type": "stream",
     "text": [
      "a9535674ec565c0e\n"
     ]
    }
   ],
   "source": [
    "# hash image\n",
    "from PIL import Image\n",
    "import imagehash\n",
    "hashed = imagehash.phash(Image.open('test.jpeg'))\n",
    "print(hashed)"
   ]
  },
  {
   "cell_type": "code",
   "execution_count": null,
   "metadata": {
    "collapsed": true
   },
   "outputs": [],
   "source": []
  }
 ],
 "metadata": {
  "anaconda-cloud": {},
  "kernelspec": {
   "display_name": "Python [py35]",
   "language": "python",
   "name": "Python [py35]"
  },
  "language_info": {
   "codemirror_mode": {
    "name": "ipython",
    "version": 3
   },
   "file_extension": ".py",
   "mimetype": "text/x-python",
   "name": "python",
   "nbconvert_exporter": "python",
   "pygments_lexer": "ipython3",
   "version": "3.5.2"
  }
 },
 "nbformat": 4,
 "nbformat_minor": 1
}
